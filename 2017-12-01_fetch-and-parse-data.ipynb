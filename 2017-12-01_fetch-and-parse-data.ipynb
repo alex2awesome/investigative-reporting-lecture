{
 "cells": [
  {
   "cell_type": "code",
   "execution_count": 15,
   "metadata": {
    "collapsed": true
   },
   "outputs": [],
   "source": [
    "import requests\n",
    "from bs4 import BeautifulSoup\n",
    "from glob import glob\n",
    "import os\n",
    "import fnmatch\n",
    "import urllib\n",
    "import os\n",
    "import fnmatch\n",
    "import unicodedata\n",
    "import lxml.html\n",
    "import xml\n",
    "import re\n",
    "import pandas as pd \n",
    "from bs4 import BeautifulSoup\n",
    "from concurrent import futures"
   ]
  },
  {
   "cell_type": "markdown",
   "metadata": {},
   "source": [
    "# Get cable files"
   ]
  },
  {
   "cell_type": "code",
   "execution_count": 6,
   "metadata": {
    "collapsed": true
   },
   "outputs": [],
   "source": [
    "resp = requests.get('https://file.wikileaks.org/file/cablegate/')\n",
    "def listFD(url, ext=''):\n",
    "    page = requests.get(url).text\n",
    "    soup = BeautifulSoup(page, 'html.parser')\n",
    "    return [url + node.get('href') for node in soup.find_all('a') if node.get('href').endswith(ext)]\n",
    "\n",
    "t = listFD('https://file.wikileaks.org/file/cablegate/')\n",
    "\n",
    "def fetch(a_href):\n",
    "    output_file = a_href.split('/')[-1]\n",
    "    urllib.urlretrieve(\n",
    "        a_href,\n",
    "        filename='data/compressed_files/' + output_file\n",
    "    )"
   ]
  },
  {
   "cell_type": "code",
   "execution_count": null,
   "metadata": {},
   "outputs": [],
   "source": [
    "# with futures.ThreadPoolExecutor(max_workers=4) as executor:\n",
    "    # executor.map(fetch, t[1:])\n",
    "map(fetch, t[1:])"
   ]
  },
  {
   "cell_type": "markdown",
   "metadata": {},
   "source": [
    "# Read and Parse Them"
   ]
  },
  {
   "cell_type": "code",
   "execution_count": 3,
   "metadata": {
    "collapsed": true
   },
   "outputs": [],
   "source": [
    "import pylzma"
   ]
  },
  {
   "cell_type": "code",
   "execution_count": 4,
   "metadata": {
    "collapsed": true
   },
   "outputs": [],
   "source": [
    "import py7zlib\n",
    "class SevenZFile(object):\n",
    "    @classmethod\n",
    "    def is_7zfile(cls, filepath):\n",
    "        '''\n",
    "        Class method: determine if file path points to a valid 7z archive.\n",
    "        '''\n",
    "        is7z = False\n",
    "        fp = None\n",
    "        try:\n",
    "            fp = open(filepath, 'rb')\n",
    "            archive = py7zlib.Archive7z(fp)\n",
    "            n = len(archive.getnames())\n",
    "            is7z = True\n",
    "        finally:\n",
    "            if fp:\n",
    "                fp.close()\n",
    "        return is7z\n",
    "\n",
    "    def __init__(self, filepath):\n",
    "        fp = open(filepath, 'rb')\n",
    "        self.archive = py7zlib.Archive7z(fp)\n",
    "\n",
    "    def extractall(self, path):\n",
    "        for name in self.archive.getnames():\n",
    "            outfilename = os.path.join(path, name)\n",
    "            outdir = os.path.dirname(outfilename)\n",
    "            if not os.path.exists(outdir):\n",
    "                os.makedirs(outdir)\n",
    "            outfile = open(outfilename, 'wb')\n",
    "            outfile.write(self.archive.getmember(name).read())\n",
    "            outfile.close()"
   ]
  },
  {
   "cell_type": "code",
   "execution_count": 8,
   "metadata": {
    "collapsed": true
   },
   "outputs": [],
   "source": [
    "compressed_files = os.listdir('data/compressed_files/')\n",
    "\n",
    "for fn in compressed_files:\n",
    "    folder = fn.replace('.7z', '')\n",
    "    if not os.path.exists('data/extracted_files/' + folder):\n",
    "        print folder\n",
    "        f = SevenZFile('data/compressed_files/' + fn)\n",
    "        try:\n",
    "            f.extractall('data/extracted_files/' + folder)\n",
    "        except ValueError as e:\n",
    "            pass"
   ]
  },
  {
   "cell_type": "markdown",
   "metadata": {},
   "source": [
    "# HTML Parsing"
   ]
  },
  {
   "cell_type": "code",
   "execution_count": 16,
   "metadata": {},
   "outputs": [],
   "source": [
    "def cleanhtml(raw_html):\n",
    "    cleanr = re.compile('<.*?>')\n",
    "    cleantext = re.sub(cleanr, '', raw_html)\n",
    "    cleantext = unicode(cleantext , encoding='utf-8') #.encode('ascii', )\n",
    "    cleantext = unicodedata.normalize('NFKD', cleantext).encode('ascii','ignore')\n",
    "    cleantext = cleantext.replace('&#x000A;', '').replace('\\\\', '').replace('\\n', '')\n",
    "    return cleantext\n",
    "\n",
    "## get list of extracted files\n",
    "extracted_files = os.listdir('data/extracted_files')\n",
    "matches = []\n",
    "for extracted_fn in extracted_files:\n",
    "    for root, dirnames, filenames in os.walk('data/extracted_files/{}/cable/'.format(extracted_fn)):\n",
    "        for filename in fnmatch.filter(filenames, '*.html'):\n",
    "            matches.append(os.path.join(root, filename))"
   ]
  },
  {
   "cell_type": "code",
   "execution_count": null,
   "metadata": {
    "collapsed": true
   },
   "outputs": [],
   "source": [
    "# strip HTML\n",
    "output = {}\n",
    "import time\n",
    "now = time.time()\n",
    "for i, fn in enumerate(matches):\n",
    "    if i % 10000 == 0: \n",
    "        print 'completed %d in %f' % (i, time.time() - now)\n",
    "        now = time.time()\n",
    "    with open(fn) as fh:\n",
    "        name_to_store = '/'.join(fn.split('/')[2:])\n",
    "        output[name_to_store] = cleanhtml(fh.read())\n",
    "        \n",
    "records = pd.Series(output).to_frame('text')\n",
    "overlap = map(lambda x: int(x[0] == x[1]), zip(records.iloc[0][0], records.iloc[1][0]))\n",
    "cutoff = filter(lambda x: x[1] == 0, enumerate(overlap))[0][0]\n",
    "records['text'] = records['text'].apply(lambda x: x[cutoff:])\n",
    "\n",
    "records.to_csv('cablegate_parsed_records.csv')"
   ]
  },
  {
   "cell_type": "markdown",
   "metadata": {},
   "source": [
    "# Appendix"
   ]
  },
  {
   "cell_type": "markdown",
   "metadata": {},
   "source": [
    "Make sure to install something to read `.7z` files.\n",
    "\n",
    "` brew install p7zip`\n",
    "\n",
    "`pip install pylzma`"
   ]
  }
 ],
 "metadata": {
  "anaconda-cloud": {},
  "kernelspec": {
   "display_name": "Python 2",
   "language": "python",
   "name": "python2"
  },
  "language_info": {
   "codemirror_mode": {
    "name": "ipython",
    "version": 2
   },
   "file_extension": ".py",
   "mimetype": "text/x-python",
   "name": "python",
   "nbconvert_exporter": "python",
   "pygments_lexer": "ipython2",
   "version": "2.7.13"
  }
 },
 "nbformat": 4,
 "nbformat_minor": 1
}
